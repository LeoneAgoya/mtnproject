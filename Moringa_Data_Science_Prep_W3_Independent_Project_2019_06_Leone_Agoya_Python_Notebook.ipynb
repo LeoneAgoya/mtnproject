# Task
# importing libraries that we will use in the project
#

import csv
import numpy as np
import pandas as pd
